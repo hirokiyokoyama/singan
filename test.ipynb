{
  "nbformat": 4,
  "nbformat_minor": 0,
  "metadata": {
    "colab": {
      "name": "singan_test.ipynb",
      "provenance": []
    },
    "kernelspec": {
      "name": "python3",
      "display_name": "Python 3"
    }
  },
  "cells": [
    {
      "cell_type": "code",
      "metadata": {
        "id": "c4eJyKDvXV6i",
        "colab_type": "code",
        "colab": {}
      },
      "source": [
        "!mkdir -p data\n",
        "!curl -o data/image.jpg https://www.adachi-hanga.com/ukiyo-e/items/hokusai040/hokusai040_main.jpg"
      ],
      "execution_count": null,
      "outputs": []
    },
    {
      "cell_type": "code",
      "metadata": {
        "id": "l99Zd7-GXeyV",
        "colab_type": "code",
        "colab": {}
      },
      "source": [
        "!./train.py data/image.jpg data/model"
      ],
      "execution_count": null,
      "outputs": []
    },
    {
      "cell_type": "code",
      "metadata": {
        "id": "A95qNQjYXikG",
        "colab_type": "code",
        "colab": {}
      },
      "source": [
        "from singan import SinGAN\n",
        "\n",
        "gan = SinGAN()\n",
        "gan.restore('data/model')"
      ],
      "execution_count": null,
      "outputs": []
    },
    {
      "cell_type": "code",
      "metadata": {
        "id": "alvQ4CkBnlW-",
        "colab_type": "code",
        "colab": {}
      },
      "source": [
        "import matplotlib.pyplot as plt\n",
        "\n",
        "fake_image = gan.generate(\n",
        "    batch_size = 9,\n",
        "    seed_image = gan.seed_image,\n",
        "    noise_stds = [1., 0.4, 0.3, 0.2, 0.1, 0.1, 0.1, 0.1, 0.1],\n",
        "    training=False)\n",
        "\n",
        "plt.figure(figsize=(20,20))\n",
        "for i in range(9):\n",
        "  plt.subplot(3,3,i+1)\n",
        "  plt.imshow((fake_image[i]+1)/2)\n",
        "  plt.axis('off')"
      ],
      "execution_count": null,
      "outputs": []
    }
  ]
}